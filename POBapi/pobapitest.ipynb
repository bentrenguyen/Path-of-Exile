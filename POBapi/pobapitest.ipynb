{
 "metadata": {
  "language_info": {
   "codemirror_mode": {
    "name": "ipython",
    "version": 3
   },
   "file_extension": ".py",
   "mimetype": "text/x-python",
   "name": "python",
   "nbconvert_exporter": "python",
   "pygments_lexer": "ipython3",
   "version": "3.7.4"
  },
  "orig_nbformat": 2,
  "kernelspec": {
   "name": "python3",
   "display_name": "Python 3.7.4 64-bit ('base': conda)",
   "metadata": {
    "interpreter": {
     "hash": "f71a7f4d3b30262e58a5bf88eb9831c711f4dcd62c13543245117c5f6bb176fd"
    }
   }
  }
 },
 "nbformat": 4,
 "nbformat_minor": 2,
 "cells": [
  {
   "cell_type": "code",
   "execution_count": 40,
   "metadata": {},
   "outputs": [],
   "source": [
    "import numpy as np\n",
    "import pandas as pd\n",
    "import re"
   ]
  },
  {
   "cell_type": "code",
   "execution_count": 5,
   "metadata": {},
   "outputs": [],
   "source": [
    "import pobapi\n",
    "url = \"https://pastebin.com/bQRjfedq\"\n",
    "build = pobapi.from_url(url)\n"
   ]
  },
  {
   "cell_type": "code",
   "execution_count": 7,
   "metadata": {},
   "outputs": [
    {
     "output_type": "stream",
     "name": "stdout",
     "text": [
      "[Gem(name='Vaal Blade Vortex', enabled=True, level=20, quality=12, support=False), Gem(name='Hypothermia', enabled=True, level=20, quality=11, support=True), Gem(name='Ice Bite', enabled=True, level=20, quality=20, support=True), Gem(name='Physical to Lightning', enabled=True, level=20, quality=19, support=True), Gem(name='Efficacy', enabled=True, level=20, quality=0, support=True), Gem(name='Controlled Destruction', enabled=True, level=21, quality=20, support=True), Gem(name='Vaal Grace', enabled=True, level=20, quality=0, support=False), Gem(name='Increased Duration', enabled=True, level=20, quality=20, support=True), Gem(name='Immortal Call', enabled=True, level=3, quality=0, support=False), Gem(name='Cast when Damage Taken', enabled=True, level=2, quality=0, support=True), Gem(name='Blind', enabled=True, level=20, quality=0, support=True), Gem(name='Herald of Thunder', enabled=True, level=20, quality=23, support=False), Gem(name='Storm Brand', enabled=True, level=20, quality=0, support=False), Gem(name='Arcane Surge', enabled=True, level=1, quality=12, support=True), Gem(name='Faster Casting', enabled=True, level=20, quality=20, support=True), Gem(name='Flame Dash', enabled=True, level=20, quality=20, support=False), Gem(name='Fortify', enabled=True, level=20, quality=0, support=True), Gem(name='Faster Attacks', enabled=True, level=20, quality=20, support=True), Gem(name='Shield Charge', enabled=True, level=20, quality=0, support=False), Gem(name='Herald of Ash', enabled=True, level=20, quality=20, support=False), Gem(name='Herald of Purity', enabled=True, level=20, quality=0, support=False), Gem(name='Onslaught', enabled=True, level=20, quality=20, support=True), Gem(name='Herald of Ice', enabled=True, level=20, quality=20, support=False)]\n"
     ]
    }
   ],
   "source": [
    "gems = build.skill_gems\n",
    "print(gems)"
   ]
  },
  {
   "cell_type": "code",
   "execution_count": 12,
   "metadata": {},
   "outputs": [
    {
     "output_type": "stream",
     "name": "stdout",
     "text": [
      "Vaal Blade Vortex\nHypothermia\nIce Bite\nPhysical to Lightning\nEfficacy\nControlled Destruction\nVaal Grace\nIncreased Duration\nImmortal Call\nCast when Damage Taken\nBlind\nHerald of Thunder\nStorm Brand\nArcane Surge\nFaster Casting\nFlame Dash\nFortify\nFaster Attacks\nShield Charge\nHerald of Ash\nHerald of Purity\nOnslaught\nHerald of Ice\n"
     ]
    }
   ],
   "source": [
    "for elem in gems: \n",
    "    print(elem.name)"
   ]
  },
  {
   "cell_type": "code",
   "execution_count": 15,
   "metadata": {},
   "outputs": [],
   "source": [
    "gemDataJSON = pd.read_json('gemData.json')"
   ]
  },
  {
   "cell_type": "code",
   "execution_count": 20,
   "metadata": {},
   "outputs": [
    {
     "output_type": "execute_result",
     "data": {
      "text/plain": [
       "dict"
      ]
     },
     "metadata": {},
     "execution_count": 20
    }
   ],
   "source": [
    "type(gemDataJSON['gem'][0])"
   ]
  },
  {
   "cell_type": "code",
   "execution_count": 27,
   "metadata": {},
   "outputs": [
    {
     "output_type": "execute_result",
     "data": {
      "text/plain": [
       "{'name': 'Added Chaos Damage Support',\n",
       " 'tags': ['Chaos', 'Support'],\n",
       " 'uses': '',\n",
       " 'price': 'Alchemy',\n",
       " 'quality': {'dflt': ['(0–10)% increased Chaos Damage'],\n",
       "  'alt1': ['Supported Skills Penetrate 5% Chaos Resistance'],\n",
       "  'alt2': ['Supported Skills have 20% of Physical Damage Converted to Chaos Damage']},\n",
       " 'icon': 'H',\n",
       " 'mana': '130%',\n",
       " 'level': '31',\n",
       " 'colors': ['Blue'],\n",
       " 'weapons': [],\n",
       " 'vendors': [{'act': '3',\n",
       "   'name': 'a_fixture_of_fate',\n",
       "   'classes': 'All, Classes'},\n",
       "  {'act': '6', 'name': 'fallen_from_grace', 'classes': 'All, Classes'}],\n",
       " 'quests': [],\n",
       " 'jewels': [],\n",
       " 'uniques': ['Duskblight', \"Night's Hold\", 'The Covenant'],\n",
       " 'enchantments': {}}"
      ]
     },
     "metadata": {},
     "execution_count": 27
    }
   ],
   "source": [
    "gemDataJSON['gem'][0]"
   ]
  },
  {
   "cell_type": "code",
   "execution_count": 38,
   "metadata": {},
   "outputs": [],
   "source": [
    "def vendorParse(vendorData): \n",
    "    retval = []\n",
    "    if vendorData == []:\n",
    "        return\n",
    "    for elem in vendorData: \n",
    "        act = elem['act']\n",
    "        name = elem['name']\n",
    "        classes = elem['classes']\n",
    "        temp = \"Act \" + act + \": \"\n",
    "    return act, name, classes"
   ]
  },
  {
   "cell_type": "code",
   "execution_count": 31,
   "metadata": {},
   "outputs": [
    {
     "output_type": "stream",
     "name": "stdout",
     "text": [
      "['31', [{'act': '3', 'name': 'a_fixture_of_fate', 'classes': 'All, Classes'}, {'act': '6', 'name': 'fallen_from_grace', 'classes': 'All, Classes'}]]\n"
     ]
    }
   ],
   "source": [
    "gemDict = {}\n",
    "for elem in gemDataJSON['gem']: \n",
    "    name = elem['name']\n",
    "    level = elem['level']\n",
    "    vendor = elem['vendors']\n",
    "    gemDict[name] = [level, vendor]\n",
    "print(gemDict['Added Chaos Damage Support'])"
   ]
  },
  {
   "cell_type": "code",
   "execution_count": 37,
   "metadata": {},
   "outputs": [
    {
     "output_type": "stream",
     "name": "stdout",
     "text": [
      "3\n6\n"
     ]
    }
   ],
   "source": [
    "for elem in gemDict['Added Chaos Damage Support'][1]:\n",
    "    print(elem['act'])"
   ]
  },
  {
   "cell_type": "code",
   "execution_count": 43,
   "metadata": {},
   "outputs": [
    {
     "output_type": "execute_result",
     "data": {
      "text/plain": [
       "'fallen_from_grace'"
      ]
     },
     "metadata": {},
     "execution_count": 43
    }
   ],
   "source": [
    "questname = vendorParse(gemDict['Added Chaos Damage Support'][1])[1]\n",
    "questname"
   ]
  },
  {
   "cell_type": "code",
   "execution_count": null,
   "metadata": {},
   "outputs": [],
   "source": [
    "re.sub(r'_(.)', ' (.)')"
   ]
  }
 ]
}